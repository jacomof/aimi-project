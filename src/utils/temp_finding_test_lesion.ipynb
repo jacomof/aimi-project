{
 "cells": [
  {
   "cell_type": "code",
   "execution_count": 1,
   "id": "3f8f4661",
   "metadata": {},
   "outputs": [
    {
     "name": "stderr",
     "output_type": "stream",
     "text": [
      "/d/hpc/projects/FRI/jf73497/aimi-project/src/segformer3duls/venv_segformer/lib/python3.10/site-packages/tqdm/auto.py:21: TqdmWarning: IProgress not found. Please update jupyter and ipywidgets. See https://ipywidgets.readthedocs.io/en/stable/user_install.html\n",
      "  from .autonotebook import tqdm as notebook_tqdm\n"
     ]
    }
   ],
   "source": [
    "# --- Standard Library ---\n",
    "import os\n",
    "import sys\n",
    "import random\n",
    "import yaml\n",
    "\n",
    "# --- Third-Party Libraries ---\n",
    "import numpy as np\n",
    "import torch\n",
    "from tqdm import tqdm\n",
    "import SimpleITK as sitk\n",
    "from matplotlib import pyplot as plt\n",
    "from termcolor import colored\n",
    "from accelerate import Accelerator\n",
    "\n",
    "project_root = '/d/hpc/projects/FRI/jf73497/aimi-project/src/segformer3duls/'\n",
    "if project_root not in sys.path:\n",
    "    sys.path.insert(0, project_root)\n",
    "    \n",
    "\n",
    "from dataloaders.build_dataset import build_dataset, build_dataloader\n",
    "from architectures.build_architecture import build_architecture\n",
    "from metrics.competition_metric import ULS23_evaluator"
   ]
  },
  {
   "cell_type": "code",
   "execution_count": 2,
   "id": "d6fc757a",
   "metadata": {},
   "outputs": [],
   "source": [
    "test_data_path = \"/d/hpc/home/jf73497/projects/aimi-project-data/raw/Dataset001_MIX\"\n",
    "\n",
    "image_path = test_data_path + \"/imagesTs/MIX_06966_0000.nii.gz\"\n",
    "label_path = test_data_path + \"/labelsTs/MIX_06966.nii.gz\"\n",
    "\n",
    "# Read image slice (single slice)\n",
    "image_itk = sitk.ReadImage(image_path)\n",
    "image = sitk.GetArrayFromImage(image_itk).astype(np.float32)\n",
    "\n",
    "# Read full label volume\n",
    "label_itk = sitk.ReadImage(label_path)\n",
    "label = sitk.GetArrayFromImage(label_itk).astype(np.int64)"
   ]
  },
  {
   "cell_type": "code",
   "execution_count": null,
   "id": "55372415",
   "metadata": {},
   "outputs": [],
   "source": [
    "class NiiSliceDataset(Dataset):\n",
    "    def __init__(self, images_dir, labels_dir, transform=None):\n",
    "        self.images_dir = images_dir\n",
    "        self.labels_dir = labels_dir\n",
    "        self.transform = transform\n",
    "\n",
    "        # List all image slices\n",
    "        self.image_paths = sorted(glob(os.path.join(images_dir, \"MIX_*_*.nii.gz\")))\n",
    "        \n",
    "    def __len__(self):\n",
    "        return len(self.image_paths)\n",
    "    \n",
    "    def __getitem__(self, idx):\n",
    "        image_path = self.image_paths[idx]\n",
    "\n",
    "        # Extract ID, e.g., MIX_00001_0000.nii.gz -> MIX_00001\n",
    "        basename = os.path.basename(image_path)\n",
    "        id_part = \"_\".join(basename.split(\"_\")[:2])  # MIX_00001\n",
    "\n",
    "        label_path = os.path.join(self.labels_dir, f\"{id_part}.nii.gz\")\n",
    "\n",
    "        # Read image slice (single slice)\n",
    "        image_itk = sitk.ReadImage(image_path)\n",
    "        image = sitk.GetArrayFromImage(image_itk).astype(np.float32)\n",
    "\n",
    "        # Read full label volume\n",
    "        label_itk = sitk.ReadImage(label_path)\n",
    "        label = sitk.GetArrayFromImage(label_itk).astype(np.int64)\n",
    "        label_spacings = label_itk.GetSpacing()\n",
    "\n",
    "        if self.transform:\n",
    "            image, label = self.transform(image, label)\n",
    "\n",
    "        # Convert to torch tensors\n",
    "        image_tensor = torch.from_numpy(image)\n",
    "        label_tensor = torch.from_numpy(label)\n",
    "\n",
    "        return basename, label_tensor, label_spacings\n",
    "\n",
    "\n",
    "\n",
    "\n",
    "test_dataset = NiiSliceDataset(test_data_path + \"/imagesTs\", test_data_path + \"/labelsTs\")"
   ]
  },
  {
   "cell_type": "code",
   "execution_count": 34,
   "id": "29a84403",
   "metadata": {},
   "outputs": [],
   "source": [
    "evaluator = ULS23_evaluator()\n",
    "\n",
    "def calculate_lesion_sizes(label_array, voxel_spacing, spacings_path):\n",
    "    # #print(f\"Calculating lesion sizes for {label_path} and {spacings_path}\")\n",
    "    # label_array = torch.load(label_path, weights_only=False)\n",
    "    # # Spacing should be reversed in order to align the z axis in the image and spacings arrays but w/e  \n",
    "    # voxel_spacing = np.array(torch.load(spacings_path, weights_only=False)[:3])\n",
    "    # #print(f\"Voxel spacing: {voxel_spacing}\")\n",
    "\n",
    "    #print(f\"Label array shape: {label_array.shape}\") \n",
    "    label_array = (label_array[1:, ...]).squeeze()\n",
    "    #print(f\"Label array shape after removing first slice: {label_array.shape}\") \n",
    "    _, _, long_axis_points, short_axis_points = evaluator.long_and_short_axis_diameters(label_array)\n",
    "\n",
    "    #print(f\"Long axis points: {long_axis_points}\")\n",
    "    if long_axis_points is None:\n",
    "        # No idea why this happens but its only a few cases and i think we can ignore it\n",
    "        return (0, 0)\n",
    "    \n",
    "    p1_long, p2_long = long_axis_points\n",
    "    p1_short, p2_short = short_axis_points\n",
    "\n",
    "    vec_long = (p2_long - p1_long) * voxel_spacing\n",
    "    vec_short = (p2_short - p1_short) * voxel_spacing\n",
    "\n",
    "    # Compute Euclidean distances (in mm)\n",
    "    label_long_mm = np.linalg.norm(vec_long)\n",
    "    label_short_mm = np.linalg.norm(vec_short)\n",
    "    \n",
    "    return (label_long_mm, label_short_mm)"
   ]
  },
  {
   "cell_type": "code",
   "execution_count": 35,
   "id": "edadfec4",
   "metadata": {},
   "outputs": [
    {
     "name": "stderr",
     "output_type": "stream",
     "text": [
      "100%|██████████| 1443/1443 [13:33<00:00,  1.77it/s]\n"
     ]
    }
   ],
   "source": [
    "sizes = []\n",
    "\n",
    "for basename, label, label_spacing in tqdm(test_dataset):\n",
    "    la, sa = calculate_lesion_sizes(label.numpy(), label_spacing, None)\n",
    "    sizes.append((basename, la, sa, 0.8*la, 0.2*sa))\n",
    "    # print(lesion_size)"
   ]
  },
  {
   "cell_type": "code",
   "execution_count": 37,
   "id": "c67d72b2",
   "metadata": {},
   "outputs": [],
   "source": [
    "basenames, las, sas, laas, saas = zip(*sizes)"
   ]
  },
  {
   "cell_type": "code",
   "execution_count": 43,
   "id": "bec9ff57",
   "metadata": {},
   "outputs": [],
   "source": [
    "cmbs = np.array(laas) + np.array(saas)"
   ]
  },
  {
   "cell_type": "code",
   "execution_count": 57,
   "id": "5106f80f",
   "metadata": {},
   "outputs": [
    {
     "name": "stdout",
     "output_type": "stream",
     "text": [
      "MIX_06966_0000.nii.gz 82.85647017974334\n"
     ]
    }
   ],
   "source": [
    "# Get indices of elements sorted in descending order\n",
    "sorted_indices = np.argsort(-cmbs)\n",
    "\n",
    "largest_test_lesion = sorted_indices[10]\n",
    "\n",
    "print(basenames[largest_test_lesion], cmbs[largest_test_lesion])"
   ]
  },
  {
   "cell_type": "code",
   "execution_count": 58,
   "id": "e1456fb3",
   "metadata": {},
   "outputs": [
    {
     "name": "stdout",
     "output_type": "stream",
     "text": [
      "MIX_06966_0000.nii.gz\n",
      "torch.Size([64, 128, 128])\n"
     ]
    }
   ],
   "source": [
    "basenameA, labelA, label_spacingA = test_dataset[largest_test_lesion]\n",
    "print(basenameA)\n",
    "\n",
    "print(labelA.shape)"
   ]
  },
  {
   "cell_type": "code",
   "execution_count": null,
   "id": "d7cac99d",
   "metadata": {},
   "outputs": [
    {
     "data": {
      "text/plain": [
       "<matplotlib.image.AxesImage at 0x15524ce74700>"
      ]
     },
     "execution_count": 59,
     "metadata": {},
     "output_type": "execute_result"
    },
    {
     "data": {
      "image/png": "[encoded data removed]",
      "text/plain": [
       "<Figure size 640x480 with 1 Axes>"
      ]
     },
     "metadata": {},
     "output_type": "display_data"
    }
   ],
   "source": [
    "plt.imshow(labelA[32])\n",
    "plt.show()\n",
    "\n",
    "plt.imshow(labelA[32])"
   ]
  }
 ],
 "metadata": {
  "kernelspec": {
   "display_name": "Python 3 (ipykernel)",
   "language": "python",
   "name": "python3"
  },
  "language_info": {
   "codemirror_mode": {
    "name": "ipython",
    "version": 3
   },
   "file_extension": ".py",
   "mimetype": "text/x-python",
   "name": "python",
   "nbconvert_exporter": "python",
   "pygments_lexer": "ipython3",
   "version": "3.10.16"
  }
 },
 "nbformat": 4,
 "nbformat_minor": 5
}
