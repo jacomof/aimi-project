{
 "cells": [
  {
   "cell_type": "code",
   "execution_count": null,
   "id": "b34a4cdb",
   "metadata": {},
   "outputs": [],
   "source": [
    "from os import sys\n",
    "sys.path.append(\"SegFormer3D-main\")\n",
    "\n",
    "import torch\n",
    "import numpy as np\n",
    "\n",
    "from metrics.competition_metric import ULS23_evaluator\n",
    "from tqdm import tqdm"
   ]
  },
  {
   "cell_type": "code",
   "execution_count": null,
   "id": "aa60d1ec",
   "metadata": {},
   "outputs": [],
   "source": [
    "evaluator = ULS23_evaluator()"
   ]
  }
 ],
 "metadata": {
  "kernelspec": {
   "display_name": "Python 3 (ipykernel)",
   "language": "python",
   "name": "python3"
  },
  "language_info": {
   "codemirror_mode": {
    "name": "ipython",
    "version": 3
   },
   "file_extension": ".py",
   "mimetype": "text/x-python",
   "name": "python",
   "nbconvert_exporter": "python",
   "pygments_lexer": "ipython3",
   "version": "3.10.12"
  }
 },
 "nbformat": 4,
 "nbformat_minor": 5
}
