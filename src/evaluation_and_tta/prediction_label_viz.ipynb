{
 "cells": [
  {
   "cell_type": "code",
   "execution_count": 1,
   "id": "e596b5ea",
   "metadata": {},
   "outputs": [
    {
     "name": "stderr",
     "output_type": "stream",
     "text": [
      "c:\\Users\\Lazar\\anaconda3\\envs\\aimi\\lib\\site-packages\\tqdm\\auto.py:21: TqdmWarning: IProgress not found. Please update jupyter and ipywidgets. See https://ipywidgets.readthedocs.io/en/stable/user_install.html\n",
      "  from .autonotebook import tqdm as notebook_tqdm\n"
     ]
    }
   ],
   "source": [
    "# --- Standard Library ---\n",
    "import os\n",
    "import sys\n",
    "import random\n",
    "import yaml\n",
    "\n",
    "# --- Third-Party Libraries ---\n",
    "import numpy as np\n",
    "import torch\n",
    "from tqdm import tqdm\n",
    "from matplotlib import pyplot as plt\n",
    "from termcolor import colored\n",
    "from accelerate import Accelerator\n",
    "from scipy.ndimage import (\n",
    "    binary_closing,\n",
    "    binary_opening,\n",
    "    binary_dilation,\n",
    "    binary_erosion,\n",
    "    generate_binary_structure\n",
    ")\n",
    "\n",
    "# --- Local Imports ---\n",
    "sys.path.append(\"..\")\n",
    "sys.path.append(\"SegFormer3D-main\")\n",
    "\n",
    "from dataloaders.build_dataset import build_dataset, build_dataloader\n",
    "from architectures.build_architecture import build_architecture\n",
    "from metrics.competition_metric import ULS23_evaluator\n"
   ]
  },
  {
   "cell_type": "code",
   "execution_count": 2,
   "id": "bdb53521",
   "metadata": {},
   "outputs": [],
   "source": [
    "import os\n",
    "import torch\n",
    "import nibabel\n",
    "import numpy as np\n",
    "from tqdm import tqdm\n",
    "from joblib import Parallel, delayed\n",
    "import matplotlib.pyplot as plt\n",
    "from matplotlib import animation\n",
    "from monai.data import MetaTensor\n",
    "from multiprocessing import Process, Pool\n",
    "from sklearn.preprocessing import MinMaxScaler \n",
    "from monai.transforms import (\n",
    "    Orientation,\n",
    "    EnsureType,\n",
    ")\n",
    "import SimpleITK as sitk\n",
    "# whoever wrote this code knew what he was doing (hint: It was me!)\n",
    "\n",
    "\"\"\"\n",
    "data \n",
    " │\n",
    " ├───train\n",
    " │      ├──imageTr\n",
    " │      │      └──BRATS_001_0000.nii.gz\n",
    " │      │      └──BRATS_001_0001.nii.gz\n",
    " │      │      └──BRATS_001_0002.nii.gz\n",
    " │      │      └──BRATS_001_0003.nii.gz\n",
    " │      │      └──BRATS_002_0000.nii.gz\n",
    " │      │      └──...\n",
    " │      ├──labelsTr\n",
    " │      │      └──BRATS_001.nii.gz\n",
    " │      │      └──BRATS_002.nii.gz\n",
    " │      │      └──...\n",
    " │      ├──imageTs\n",
    " │      │      └──BRATS_485_000.nii.gz\n",
    " │      │      └──BRATS_485_001.nii.gz\n",
    " │      │      └──BRATS_485_002.nii.gz\n",
    " │      │      └──BRATS_485_003.nii.gz\n",
    " │      │      └──BRATS_486_000.nii.gz\n",
    " │      │      └──...\n",
    "\n",
    "\"\"\"\n",
    "class ConvertToMultiChannelBasedOnUls2023Classes(object):\n",
    "    \"\"\"\n",
    "    Convert labels to multi channels based on brats17 classes:\n",
    "    \"0\": \"background\", \n",
    "    \"1\": \"edema\",\n",
    "    \"2\": \"non-enhancing tumor\",\n",
    "    \"3\": \"enhancing tumour\"\n",
    "    Annotations comprise the GD-enhancing tumor (ET — label 4), the peritumoral edema (ED — label 2),\n",
    "    and the necrotic and non-enhancing tumor (NCR/NET — label 1)\n",
    "    \"\"\"\n",
    "    def __call__(self, img):\n",
    "\n",
    "        # if img has channel dim, squeeze it\n",
    "        if img.ndim == 4 and img.shape[-1] == 1:\n",
    "            img = img.squeeze(-1)\n",
    "\n",
    "        # We have two classes: 0 (background) and 1 (lesion)\n",
    "        result = [\n",
    "            img == 0,  # background\n",
    "            img == 1   # lesion\n",
    "        ]\n",
    "        # merge background and lesion\n",
    "        return torch.stack(result, dim=0) if isinstance(img, torch.Tensor) else np.stack(result, axis=0)\n",
    "\n",
    "class ULS2023Preprocess:\n",
    "    def __init__(\n",
    "        self,\n",
    "        root_dir: str,\n",
    "        train_folder_name: str = \"train\",\n",
    "        save_dir: str = \"../ULS2023_Training_Data\",\n",
    "        cpu_count: int = 1,\n",
    "    ):\n",
    "        \"\"\"\n",
    "        root_dir: path to the data folder where the raw train folder is\n",
    "        roi: spatiotemporal size of the 3D volume to be resized\n",
    "        train_folder_name: name of the folder of the training data\n",
    "        save_dir: path to directory where each case is going to be saved as a single file containing four modalities\n",
    "        \"\"\"\n",
    "\n",
    "        # self.train_folder_dir = os.path.join(root_dir, train_folder_name)\n",
    "        # print(f\"train folder dir: {self.train_folder_dir}\")\n",
    "        # label_folder_dir = os.path.join(root_dir, train_folder_name, \"labelsTr\")\n",
    "        # assert os.path.exists(self.train_folder_dir)\n",
    "        # assert os.path.exists(label_folder_dir)\n",
    "        \n",
    "        # self.save_dir = save_dir\n",
    "        # # we only care about case names for which we have label! \n",
    "        # self.case_name = next(os.walk(label_folder_dir), (None, None, []))[2]\n",
    "        # print(f\"Number of cases: {len(self.case_name)}\")\n",
    "        # self.cpu_count = cpu_count\n",
    "\n",
    "        # if not os.path.exists(self.save_dir):\n",
    "        #     os.makedirs(self.save_dir)\n",
    "\n",
    "    def __len__(self):\n",
    "        return self.case_name.__len__()\n",
    "\n",
    "    def normalize(self, x:np.ndarray)->np.ndarray:\n",
    "        # Transform features by scaling each feature to a given range.\n",
    "        scaler = MinMaxScaler(feature_range=(0, 1))\n",
    "        # (H, W, D) -> (H * W, D)\n",
    "        normalized_1D_array = scaler.fit_transform(x.reshape(-1, x.shape[-1]))\n",
    "        normalized_data = normalized_1D_array.reshape(x.shape)\n",
    "        return normalized_data\n",
    "\n",
    "    def orient(self, x: MetaTensor) -> MetaTensor:\n",
    "        # orient the array to be in (Right, Anterior, Superior) scanner coordinate systems\n",
    "        assert type(x) == MetaTensor\n",
    "        return Orientation(axcodes=\"RAS\")(x)\n",
    "\n",
    "    def detach_meta(self, x: MetaTensor) -> np.ndarray:\n",
    "        assert type(x) == MetaTensor\n",
    "        return EnsureType(data_type=\"numpy\", track_meta=False)(x)\n",
    "\n",
    "    def crop_brats2021_zero_pixels(self, x: np.ndarray)->np.ndarray:\n",
    "        # get rid of the zero pixels around mri scan and cut it so that the region is useful\n",
    "        # crop (240, 240, 155) to (128, 128, 128)\n",
    "        return x[:, 56:184, 56:184, 13:141]\n",
    "\n",
    "    def remove_case_name_artifact(self, case_name: str)->str:\n",
    "        # BRATS_066.nii.gz -> BRATS_066\n",
    "        return case_name.rsplit(\".\")[0]\n",
    "\n",
    "    def get_fp(self, case_name: str, folder: str, mri_code: str = None):\n",
    "        \"\"\"\n",
    "        return the modality file path\n",
    "        case_name: patient ID\n",
    "        folder: either [imagesTr, labelsTr]\n",
    "        mri_code: code of any of the [\"Flair\", \"T1w\", \"T1gd\", \"T2w\"]\n",
    "        \"\"\"\n",
    "        if mri_code:\n",
    "            f_name = f\"{case_name}_{mri_code}.nii.gz\"\n",
    "        else:\n",
    "            f_name = f\"{case_name}.nii.gz\"\n",
    "\n",
    "        modality_fp = os.path.join(\n",
    "            self.train_folder_dir,\n",
    "            folder,\n",
    "            f_name,\n",
    "        )\n",
    "        return modality_fp\n",
    "\n",
    "    def load_nifti(self, fp):\n",
    "        \"\"\"\n",
    "        load a nifti file\n",
    "        fp: path to the nifti file with (nii or nii.gz) extension\n",
    "        \"\"\"\n",
    "        nifti_data = nibabel.load(fp)\n",
    "        # get the floating point array\n",
    "        nifti_scan = nifti_data.get_fdata()\n",
    "        # get affine matrix\n",
    "        affine = nifti_data.affine\n",
    "        return nifti_scan, affine\n",
    "\n",
    "    def _2metaTensor(self, nifti_data: np.ndarray, affine_mat: np.ndarray):\n",
    "        \"\"\"\n",
    "        convert a nifti data to meta tensor\n",
    "        nifti_data: floating point array of the raw nifti object\n",
    "        affine_mat: affine matrix to be appended to the meta tensor for later application such as transformation\n",
    "        \"\"\"\n",
    "        # creating a meta tensor in which affine matrix is stored for later uses(i.e. transformation)\n",
    "        scan = MetaTensor(x=nifti_data, affine=affine_mat)\n",
    "        # adding a new axis\n",
    "        D, H, W = scan.shape\n",
    "        # adding new axis\n",
    "        scan = scan.view(1, D, H, W)\n",
    "        return scan\n",
    "\n",
    "    def preprocess_uls(self, data_fp: str, is_label: bool = False)->np.ndarray:\n",
    "        \"\"\"\n",
    "        apply preprocess stage to the modality\n",
    "        data_fp: directory to the modality\n",
    "        \"\"\"\n",
    "        data, affine = self.load_nifti(data_fp)\n",
    "\n",
    "        # First orient data, because adding new dimensions before makes affine and data incompatible \n",
    "        data = MetaTensor(x=data, affine=affine)\n",
    "        # for oreinting the coordinate system we need the affine matrix\n",
    "        data = self.orient(data)\n",
    "        # detaching the meta values from the oriented array\n",
    "        data = self.detach_meta(data)\n",
    "\n",
    "        # label do not the be normalized \n",
    "        if is_label:\n",
    "            # Binary mask does not need to be float64! For saving storage purposes!\n",
    "            data = data.astype(np.uint8)\n",
    "            # categorical -> one-hot-encoded \n",
    "            # (128, 128, 64, 1) -> (2, 128, 128, 64)\n",
    "            data = ConvertToMultiChannelBasedOnUls2023Classes()(data)\n",
    "            # print(\"Label shape after channel mapping: \", data.shape)\n",
    "        else:\n",
    "            data = self.normalize(x=data)\n",
    "            # (128, 128, 64, 1) -> (1, 128, 128, 64)\n",
    "            data = np.moveaxis(data, -1, 0)\n",
    "\n",
    "        # images have already been cropped\n",
    "        #data = self.crop_brats2021_zero_pixels(data)\n",
    "\n",
    "        return data\n",
    "\n",
    "    def __getitem__(self, idx):\n",
    "        # Example: MIX_00001_0000.nii.gz\n",
    "        case_name = self.case_name[idx]\n",
    "        # Remove case name file extension: Example: MIX_00001_0000\n",
    "        case_name = self.remove_case_name_artifact(case_name)\n",
    "        \n",
    "        case_path = self.get_fp(case_name, \"imagesTr\", mri_code='0000')\n",
    "        \n",
    "        # preprocess image\n",
    "        im = self.preprocess_uls(case_path, is_label=False)\n",
    "        # print(\"Preprocessed image shape: \", im.shape)\n",
    "        im_transv = im.swapaxes(1, 3) # transverse plane\n",
    "        # print(\"Preprocessed image shape after swapaxes: \", im_transv.shape)\n",
    "\n",
    "        # preprocess segmentation label\n",
    "        label = self.get_fp(case_name, \"labelsTr\")\n",
    "        label = self.preprocess_uls(label, is_label=True)\n",
    "        # print(\"Preprocessed label shape: \", label.shape)\n",
    "        label = label.swapaxes(1, 3) # transverse plane \n",
    "        # print(\"Preprocessed label shape after swapaxes: \", label.shape)\n",
    "\n",
    "        # add channel dimension (1, D, H, W)\n",
    "        # im = im_transv.unsqueeze(0)\n",
    "    \n",
    "        return im_transv, label, case_name\n",
    "\n",
    "\n",
    "    def __call__(self):\n",
    "        print(\"started preprocessing ULS2023...\")\n",
    "        with Pool(processes=self.cpu_count) as multi_p:\n",
    "            result = multi_p.map_async(func=self.process, iterable=range(self.__len__()))\n",
    "            multi_p.close()\n",
    "            multi_p.join()\n",
    "            result.get()\n",
    "\n",
    "        print(\"finished preprocessing ULS2023...\")\n",
    "\n",
    "    def process(self, idx):\n",
    "        tensor, label, case_name = self.__getitem__(idx)\n",
    "        # creating the folder for the current case id\n",
    "        data_save_path = os.path.join(self.save_dir, case_name)\n",
    "        if not os.path.exists(data_save_path):\n",
    "            os.makedirs(data_save_path)\n",
    "        tensor_fn = data_save_path + f\"/{case_name}_im.pt\"\n",
    "        label_fn = data_save_path + f\"/{case_name}_label.pt\"\n",
    "        torch.save(tensor, tensor_fn)\n",
    "        torch.save(label, label_fn)\n"
   ]
  },
  {
   "cell_type": "code",
   "execution_count": 3,
   "id": "fe8259a3",
   "metadata": {},
   "outputs": [],
   "source": [
    "# test_data_path = \"/d/hpc/home/jf73497/projects/aimi-project-data/raw/Dataset001_MIX\"\n",
    "\n",
    "image_path = \"./MIX_06966_0000.nii.gz\"\n",
    "label_path = \"./MIX_06966.nii.gz\"\n",
    "\n",
    "# Read image slice (single slice)\n",
    "image_itk = sitk.ReadImage(image_path)\n",
    "image_raw = sitk.GetArrayFromImage(image_itk).astype(np.float32)\n",
    "# Read full label volume\n",
    "label_itk = sitk.ReadImage(label_path)\n",
    "label = sitk.GetArrayFromImage(label_itk).astype(np.int64)\n",
    "\n",
    "pre = ULS2023Preprocess(\".\")\n",
    "\n",
    "image = pre.preprocess_uls(image_path, False).swapaxes(1, 3)\n",
    "label = pre.preprocess_uls(label_path, True).swapaxes(1, 3)\n"
   ]
  },
  {
   "cell_type": "code",
   "execution_count": 32,
   "id": "135c772e",
   "metadata": {},
   "outputs": [],
   "source": [
    "import matplotlib.pyplot as plt\n",
    "from matplotlib.patches import Patch\n",
    "\n",
    "def visualize_middle_slice_with_border(voi, prediction, label, pred_os):\n",
    "    \"\"\"\n",
    "    Visualize the middle slice of a VOI with border-only overlays for prediction and label.\n",
    "\n",
    "    Args:\n",
    "        voi (torch.Tensor): Input VOI of shape (1, 1, 64, 128, 128)\n",
    "        prediction (torch.Tensor): Binary prediction of the same shape\n",
    "        label (torch.Tensor): Binary ground truth label of the same shape\n",
    "    \"\"\"\n",
    "    assert voi.shape == prediction.shape == label.shape, \"Shapes must match and be (1, 1, 64, 128, 128)\"\n",
    "\n",
    "    # Convert tensors to NumPy arrays\n",
    "    voi_np = voi.squeeze()\n",
    "    pred_np = prediction.squeeze().astype(np.uint8)\n",
    "    label_np = label.squeeze().astype(np.uint8)\n",
    "    pred_os = pred_os.squeeze().astype(np.uint8)\n",
    "\n",
    "    # Get the middle slice along the depth dimension\n",
    "    mid_slice = voi_np.shape[0] // 2\n",
    "    base_slice = voi_np[mid_slice]\n",
    "    pred_slice = pred_np[mid_slice]\n",
    "    label_slice = label_np[mid_slice]\n",
    "    pred_os = pred_os[mid_slice]\n",
    "\n",
    "    # Define edge detection kernel (simple Laplacian)\n",
    "    kernel = np.array([[1, 1, 1],\n",
    "                       [1, -8, 1],\n",
    "                       [1, 1, 1]], dtype=np.int8)\n",
    "\n",
    "    def extract_border(binary_slice):\n",
    "        padded = np.pad(binary_slice, pad_width=1, mode='constant', constant_values=0)\n",
    "        border = np.zeros_like(binary_slice)\n",
    "        for i in range(binary_slice.shape[0]):\n",
    "            for j in range(binary_slice.shape[1]):\n",
    "                region = padded[i:i+3, j:j+3]\n",
    "                val = np.sum(region * kernel)\n",
    "                border[i, j] = 1 if val != 0 and binary_slice[i, j] == 1 else 0\n",
    "        return border\n",
    "\n",
    "    # Extract borders\n",
    "    pred_border = extract_border(pred_slice)\n",
    "    label_border = extract_border(label_slice)\n",
    "    pred_os = extract_border(pred_os)\n",
    "\n",
    "    # Plotting\n",
    "    plt.figure(figsize=(8, 8))\n",
    "    plt.imshow(base_slice, cmap=\"gray\")\n",
    "\n",
    "    # Overlay label border (red)\n",
    "    y_label, x_label = np.where(label_border == 1)\n",
    "    plt.scatter(x_label, y_label, c='#FF3F33', s=2, label='Label Border')\n",
    "\n",
    "    # Overlay prediction border (blue)\n",
    "    y_pred, x_pred = np.where(pred_border == 1)\n",
    "    plt.scatter(x_pred, y_pred, c='#3D3BF3', s=2, label='Prediction Border')\n",
    "\n",
    "    # Overlay prediction border (blue)\n",
    "    y_pred, x_pred = np.where(pred_os == 1)\n",
    "    plt.scatter(x_pred, y_pred, c='#FF9B17', s=2, label='OS Prediction Border')\n",
    "\n",
    "    # Legend and formatting\n",
    "    legend_elements = [\n",
    "        Patch(facecolor='none', edgecolor='#FF3F33', label='Label Border'),\n",
    "        Patch(facecolor='none', edgecolor='#3D3BF3', label='SegFormer3D Prediction Border'),\n",
    "        Patch(facecolor='none', edgecolor='#FF9B17', label='SegFormer3D_OS Prediction Border'),\n",
    "    ]\n",
    "    plt.legend(handles=legend_elements, loc='lower right')\n",
    "    plt.title(\"SegFormer3D Middle Z Slice Predictions\")\n",
    "    plt.axis(\"off\")\n",
    "    plt.tight_layout()\n",
    "    plt.show()\n"
   ]
  },
  {
   "cell_type": "code",
   "execution_count": 5,
   "id": "bb584d94",
   "metadata": {},
   "outputs": [],
   "source": [
    "\n",
    "\n",
    "evaluator = ULS23_evaluator()\n",
    "\n",
    "def load_config(config_path: str):\n",
    "    \"\"\"loads the yaml config file\n",
    "\n",
    "    Args:\n",
    "        config_path (str): _description_\n",
    "\n",
    "    Returns:\n",
    "        Dict: _description_\n",
    "    \"\"\"\n",
    "    with open(config_path, \"r\") as file:\n",
    "        config = yaml.safe_load(file)\n",
    "    return config\n",
    "\n",
    "##################################################################################################\n",
    "def seed_everything(config) -> None:\n",
    "    seed = config[\"training_parameters\"][\"seed\"]\n",
    "    os.environ[\"PYTHONHASHSEED\"] = str(seed)\n",
    "    random.seed(seed)\n",
    "    np.random.seed(seed)\n",
    "    torch.manual_seed(seed)\n",
    "    torch.cuda.manual_seed(seed)\n",
    "    torch.cuda.manual_seed_all(seed)\n",
    "    torch.backends.cudnn.deterministic = True\n",
    "    torch.backends.cudnn.benchmark = False\n",
    "\n",
    "\n",
    "def load_checkpoint(\n",
    "        config,\n",
    "        accelerator,\n",
    "):\n",
    "    accelerator.load_state(\n",
    "        config[\"training_parameters\"][\"load_checkpoint\"][\"load_checkpoint_path\"]\n",
    "    )\n",
    "   \n",
    "def _run_eval(model, image) -> None:\n",
    "    \"\"\"_summary_\"\"\"\n",
    "    # Tell wandb to watch the model and optimizer values\n",
    "\n",
    "    model.eval()\n",
    "\n",
    "    with torch.no_grad():\n",
    "\n",
    "        logits = model.forward(image)\n",
    "        logits = logits[:, 1:, ...]\n",
    "        predicted = torch.sigmoid(logits)\n",
    "\n",
    "    return predicted\n",
    "\n"
   ]
  },
  {
   "cell_type": "code",
   "execution_count": 6,
   "id": "c4d9be59",
   "metadata": {},
   "outputs": [
    {
     "name": "stdout",
     "output_type": "stream",
     "text": [
      "(1, 64, 128, 128)\n"
     ]
    }
   ],
   "source": [
    "print(image.shape)\n",
    "\n",
    "model_input_image = torch.from_numpy(image).unsqueeze(0).to('cuda').float()\n",
    "\n",
    "model_input_image_raw = torch.from_numpy(image_raw).unsqueeze(0).unsqueeze(0).to('cuda').float()"
   ]
  },
  {
   "cell_type": "code",
   "execution_count": 12,
   "id": "5d1ac684",
   "metadata": {},
   "outputs": [
    {
     "name": "stdout",
     "output_type": "stream",
     "text": [
      "Error in callback <bound method _WandbInit._resume_backend of <wandb.sdk.wandb_init._WandbInit object at 0x000001F0F39E0AC0>> (for pre_run_cell), with arguments args (<ExecutionInfo object at 1f0f39e3bb0, raw_cell=\"# load config\n",
      "config = load_config(r'./config.yaml..\" store_history=True silent=False shell_futures=True cell_id=vscode-notebook-cell:/c%3A/Users/Lazar/OneDrive/Desktop/RU%20Courses/AI%20in%20Medical%20Imaging/project/aimi-project/SegFormer3D-main/tta_aug/prediction_label_viz.ipynb#W6sZmlsZQ%3D%3D>,),kwargs {}:\n"
     ]
    },
    {
     "ename": "TypeError",
     "evalue": "_WandbInit._resume_backend() takes 1 positional argument but 2 were given",
     "output_type": "error",
     "traceback": [
      "\u001b[1;31m---------------------------------------------------------------------------\u001b[0m",
      "\u001b[1;31mTypeError\u001b[0m                                 Traceback (most recent call last)",
      "\u001b[1;31mTypeError\u001b[0m: _WandbInit._resume_backend() takes 1 positional argument but 2 were given"
     ]
    },
    {
     "data": {
      "text/html": [
       "Finishing last run (ID:qyftugdt) before initializing another..."
      ],
      "text/plain": [
       "<IPython.core.display.HTML object>"
      ]
     },
     "metadata": {},
     "output_type": "display_data"
    },
    {
     "data": {
      "text/html": [
       "Waiting for W&B process to finish... <strong style=\"color:green\">(success).</strong>"
      ],
      "text/plain": [
       "<IPython.core.display.HTML object>"
      ]
     },
     "metadata": {},
     "output_type": "display_data"
    },
    {
     "data": {
      "text/html": [
       " View run <strong style=\"color:#cdcd00\">segformer3d_adamw_batch8_diceCEloss_continued</strong> at: <a href='https://wandb.ai/gatonegro/uls2023/runs/qyftugdt' target=\"_blank\">https://wandb.ai/gatonegro/uls2023/runs/qyftugdt</a><br/>Synced 6 W&B file(s), 0 media file(s), 0 artifact file(s) and 0 other file(s)"
      ],
      "text/plain": [
       "<IPython.core.display.HTML object>"
      ]
     },
     "metadata": {},
     "output_type": "display_data"
    },
    {
     "data": {
      "text/html": [
       "Find logs at: <code>C:\\Users\\Lazar\\AppData\\Local\\Temp\\wandb\\run-20250601_110531-qyftugdt\\logs</code>"
      ],
      "text/plain": [
       "<IPython.core.display.HTML object>"
      ]
     },
     "metadata": {},
     "output_type": "display_data"
    },
    {
     "data": {
      "text/html": [
       "Successfully finished last run (ID:qyftugdt). Initializing new run:<br/>"
      ],
      "text/plain": [
       "<IPython.core.display.HTML object>"
      ]
     },
     "metadata": {},
     "output_type": "display_data"
    },
    {
     "data": {
      "text/html": [
       "wandb version 0.19.11 is available!  To upgrade, please run:\n",
       " $ pip install wandb --upgrade"
      ],
      "text/plain": [
       "<IPython.core.display.HTML object>"
      ]
     },
     "metadata": {},
     "output_type": "display_data"
    },
    {
     "data": {
      "text/html": [
       "Tracking run with wandb version 0.15.12"
      ],
      "text/plain": [
       "<IPython.core.display.HTML object>"
      ]
     },
     "metadata": {},
     "output_type": "display_data"
    },
    {
     "data": {
      "text/html": [
       "Run data is saved locally in <code>C:\\Users\\Lazar\\AppData\\Local\\Temp\\wandb\\run-20250601_110622-zcct8gaf</code>"
      ],
      "text/plain": [
       "<IPython.core.display.HTML object>"
      ]
     },
     "metadata": {},
     "output_type": "display_data"
    },
    {
     "data": {
      "text/html": [
       "Syncing run <strong><a href='https://wandb.ai/gatonegro/uls2023/runs/zcct8gaf' target=\"_blank\">segformer3d_adamw_batch8_diceCEloss_continued</a></strong> to <a href='https://wandb.ai/gatonegro/uls2023' target=\"_blank\">Weights & Biases</a> (<a href='https://wandb.me/run' target=\"_blank\">docs</a>)<br/>"
      ],
      "text/plain": [
       "<IPython.core.display.HTML object>"
      ]
     },
     "metadata": {},
     "output_type": "display_data"
    },
    {
     "data": {
      "text/html": [
       " View project at <a href='https://wandb.ai/gatonegro/uls2023' target=\"_blank\">https://wandb.ai/gatonegro/uls2023</a>"
      ],
      "text/plain": [
       "<IPython.core.display.HTML object>"
      ]
     },
     "metadata": {},
     "output_type": "display_data"
    },
    {
     "data": {
      "text/html": [
       " View run at <a href='https://wandb.ai/gatonegro/uls2023/runs/zcct8gaf' target=\"_blank\">https://wandb.ai/gatonegro/uls2023/runs/zcct8gaf</a>"
      ],
      "text/plain": [
       "<IPython.core.display.HTML object>"
      ]
     },
     "metadata": {},
     "output_type": "display_data"
    },
    {
     "name": "stdout",
     "output_type": "stream",
     "text": [
      "[info] -- Loading checkpoint.\n",
      "[info] -- Running evaluation only.\n"
     ]
    },
    {
     "name": "stderr",
     "output_type": "stream",
     "text": [
      "c:\\Users\\Lazar\\anaconda3\\envs\\aimi\\lib\\site-packages\\accelerate\\checkpointing.py:159: FutureWarning: You are using `torch.load` with `weights_only=False` (the current default value), which uses the default pickle module implicitly. It is possible to construct malicious pickle data which will execute arbitrary code during unpickling (See https://github.com/pytorch/pytorch/blob/main/SECURITY.md#untrusted-models for more details). In a future release, the default value for `weights_only` will be flipped to `True`. This limits the functions that could be executed during unpickling. Arbitrary objects will no longer be allowed to be loaded via this mode unless they are explicitly allowlisted by the user via `torch.serialization.add_safe_globals`. We recommend you start setting `weights_only=True` for any use case where you don't have full control of the loaded file. Please open an issue on GitHub for any issues related to this experimental feature.\n",
      "  models[i].load_state_dict(torch.load(input_model_file, map_location=map_location), **load_model_func_kwargs)\n",
      "c:\\Users\\Lazar\\anaconda3\\envs\\aimi\\lib\\site-packages\\accelerate\\checkpointing.py:185: FutureWarning: You are using `torch.load` with `weights_only=False` (the current default value), which uses the default pickle module implicitly. It is possible to construct malicious pickle data which will execute arbitrary code during unpickling (See https://github.com/pytorch/pytorch/blob/main/SECURITY.md#untrusted-models for more details). In a future release, the default value for `weights_only` will be flipped to `True`. This limits the functions that could be executed during unpickling. Arbitrary objects will no longer be allowed to be loaded via this mode unless they are explicitly allowlisted by the user via `torch.serialization.add_safe_globals`. We recommend you start setting `weights_only=True` for any use case where you don't have full control of the loaded file. Please open an issue on GitHub for any issues related to this experimental feature.\n",
      "  states = torch.load(os.path.join(input_dir, f\"{RNG_STATE_NAME}_{process_index}.pkl\"))\n"
     ]
    }
   ],
   "source": [
    "# load config\n",
    "config = load_config(r'./config.yaml')\n",
    "\n",
    "# set seed\n",
    "seed_everything(config)\n",
    "\n",
    "# build the Model\n",
    "model = build_architecture(config)\n",
    "\n",
    "\n",
    "# use accelarate\n",
    "accelerator = Accelerator(\n",
    "    log_with=\"wandb\",\n",
    "    gradient_accumulation_steps=config[\"training_parameters\"][\n",
    "        \"grad_accumulate_steps\"\n",
    "    ],\n",
    ")\n",
    "accelerator.init_trackers(\n",
    "    project_name=config[\"project\"],\n",
    "    config=config,\n",
    "    init_kwargs={\"wandb\": config[\"wandb_parameters\"]},\n",
    ")\n",
    "\n",
    "\n",
    "# convert all components to accelerate\n",
    "model = accelerator.prepare_model(model=model)\n",
    "\n",
    "if config[\"training_parameters\"][\"load_checkpoint\"][\"load_full_checkpoint\"]:\n",
    "        print(\"[info] -- Loading checkpoint.\")\n",
    "        load_checkpoint(\n",
    "            config=config,\n",
    "            accelerator=accelerator,)\n",
    "\n",
    "print(\"[info] -- Running evaluation only.\")\n",
    "prediction = ULS_per_threshold = _run_eval(model, model_input_image)\n",
    "\n",
    "prediction_raw = ULS_per_threshold = _run_eval(model, model_input_image_raw)"
   ]
  },
  {
   "cell_type": "code",
   "execution_count": 13,
   "id": "d876e0a0",
   "metadata": {},
   "outputs": [
    {
     "name": "stdout",
     "output_type": "stream",
     "text": [
      "torch.Size([1, 1, 64, 128, 128])\n"
     ]
    }
   ],
   "source": [
    "prediction_mask = prediction > 0.5\n",
    "\n",
    "prediction_mask_raw = prediction_raw > 0.5\n",
    "print(prediction_mask.shape)"
   ]
  },
  {
   "cell_type": "code",
   "execution_count": 14,
   "id": "b4aa95c4",
   "metadata": {},
   "outputs": [
    {
     "data": {
      "image/png": "[encoded data removed]",
      "text/plain": [
       "<Figure size 640x480 with 1 Axes>"
      ]
     },
     "metadata": {},
     "output_type": "display_data"
    },
    {
     "data": {
      "image/png": "[encoded data removed]",
      "text/plain": [
       "<Figure size 640x480 with 1 Axes>"
      ]
     },
     "metadata": {},
     "output_type": "display_data"
    }
   ],
   "source": [
    "plt.imshow(prediction_mask[0, 0, 32].cpu())\n",
    "plt.show()\n",
    "plt.imshow(prediction_mask_raw[0, 0, 32].cpu())\n",
    "plt.show()\n"
   ]
  },
  {
   "cell_type": "code",
   "execution_count": 37,
   "id": "3dde3916",
   "metadata": {},
   "outputs": [],
   "source": [
    "pred_os = torch.save(prediction_mask, 'pred_non_os.pt',)"
   ]
  },
  {
   "cell_type": "code",
   "execution_count": 33,
   "id": "5980dc76",
   "metadata": {},
   "outputs": [
    {
     "name": "stdout",
     "output_type": "stream",
     "text": [
      "(1, 64, 128, 128) torch.Size([1, 1, 64, 128, 128]) (2, 64, 128, 128)\n",
      "(64, 128, 128) (64, 128, 128) (64, 128, 128)\n"
     ]
    },
    {
     "data": {
      "image/png": "[encoded data removed]",
      "text/plain": [
       "<Figure size 800x800 with 1 Axes>"
      ]
     },
     "metadata": {},
     "output_type": "display_data"
    }
   ],
   "source": [
    "print(image.shape, prediction_mask.shape, label.shape)\n",
    "\n",
    "\n",
    "image_viz = image.squeeze()\n",
    "preD_viz = prediction_mask.squeeze().cpu().numpy()\n",
    "preD_viz_raw = prediction_mask_raw.squeeze().cpu().numpy()\n",
    "pred_os_viz = pred_os.squeeze().cpu().numpy()\n",
    "label_viz = label[1:, ...].squeeze()\n",
    "print(image_viz.shape, preD_viz.shape, label_viz.shape)\n",
    "visualize_middle_slice_with_border(image_viz, preD_viz, label_viz, pred_os_viz)"
   ]
  }
 ],
 "metadata": {
  "kernelspec": {
   "display_name": "aimi",
   "language": "python",
   "name": "python3"
  },
  "language_info": {
   "codemirror_mode": {
    "name": "ipython",
    "version": 3
   },
   "file_extension": ".py",
   "mimetype": "text/x-python",
   "name": "python",
   "nbconvert_exporter": "python",
   "pygments_lexer": "ipython3",
   "version": "3.10.12"
  }
 },
 "nbformat": 4,
 "nbformat_minor": 5
}
