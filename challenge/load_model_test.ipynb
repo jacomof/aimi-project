{
 "cells": [
  {
   "cell_type": "code",
   "execution_count": 8,
   "id": "4b6ec9b6",
   "metadata": {},
   "outputs": [],
   "source": [
    "import torch\n",
    "from segformer3d import build_segformer3d_model\n",
    "import yaml\n",
    "\n",
    "# Load the configuration from a YAML file\n",
    "\n",
    "with open('config.yaml', 'r') as file:\n",
    "    config = yaml.safe_load(file)\n",
    "\n",
    "predictor = build_segformer3d_model(config=config)\n",
    "# Load the state dict from the .bin file\n",
    "state_dict = torch.load(\"all_data_checkpoint_segformer/pytorch_model.bin\", map_location=\"cpu\")\n",
    "predictor.load_state_dict(state_dict)\n",
    "device = torch.device(\"cuda\")\n",
    "predictor = predictor.to(device)"
   ]
  }
 ],
 "metadata": {
  "kernelspec": {
   "display_name": "segformer3d",
   "language": "python",
   "name": "python3"
  },
  "language_info": {
   "codemirror_mode": {
    "name": "ipython",
    "version": 3
   },
   "file_extension": ".py",
   "mimetype": "text/x-python",
   "name": "python",
   "nbconvert_exporter": "python",
   "pygments_lexer": "ipython3",
   "version": "3.11.11"
  }
 },
 "nbformat": 4,
 "nbformat_minor": 5
}
