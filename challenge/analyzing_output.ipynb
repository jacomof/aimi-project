{
 "cells": [
  {
   "cell_type": "code",
   "execution_count": 16,
   "id": "f9585ae4",
   "metadata": {},
   "outputs": [],
   "source": [
    "import SimpleITK as sitk\n",
    "import numpy as np"
   ]
  },
  {
   "cell_type": "code",
   "execution_count": 17,
   "id": "7124fc91",
   "metadata": {},
   "outputs": [],
   "source": [
    "im = sitk.ReadImage(\"output/stacked_voi_sample.mha\")"
   ]
  },
  {
   "cell_type": "code",
   "execution_count": 18,
   "id": "9710ad50",
   "metadata": {},
   "outputs": [],
   "source": [
    "arr = sitk.GetArrayFromImage(im)"
   ]
  },
  {
   "cell_type": "code",
   "execution_count": 19,
   "id": "a1d8a852",
   "metadata": {},
   "outputs": [
    {
     "name": "stdout",
     "output_type": "stream",
     "text": [
      "Number of segments in the image: 2\n",
      "Type of the image array: int8\n"
     ]
    }
   ],
   "source": [
    "arr.shape\n",
    "num_segments = len(np.unique(arr))\n",
    "print(f\"Number of segments in the image: {num_segments}\")\n",
    "print(f\"Type of the image array: {arr.dtype}\")"
   ]
  }
 ],
 "metadata": {
  "kernelspec": {
   "display_name": "segformer3d-uls",
   "language": "python",
   "name": "python3"
  },
  "language_info": {
   "codemirror_mode": {
    "name": "ipython",
    "version": 3
   },
   "file_extension": ".py",
   "mimetype": "text/x-python",
   "name": "python",
   "nbconvert_exporter": "python",
   "pygments_lexer": "ipython3",
   "version": "3.10.16"
  }
 },
 "nbformat": 4,
 "nbformat_minor": 5
}
