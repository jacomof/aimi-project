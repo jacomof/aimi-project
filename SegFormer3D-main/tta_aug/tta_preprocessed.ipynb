{
 "cells": [
  {
   "cell_type": "code",
   "execution_count": 1,
   "id": "bff74ce3",
   "metadata": {},
   "outputs": [],
   "source": [
    "from os import sys\n",
    "sys.path.append(\"SegFormer3D-main\")\n",
    "\n",
    "import torch\n",
    "import numpy as np\n",
    "\n",
    "from metrics.competition_metric import ULS23_evaluator\n",
    "from tqdm import tqdm\n",
    "\n"
   ]
  },
  {
   "cell_type": "code",
   "execution_count": 2,
   "id": "a2525727",
   "metadata": {},
   "outputs": [],
   "source": [
    "evaluator = ULS23_evaluator()"
   ]
  },
  {
   "cell_type": "code",
   "execution_count": 3,
   "id": "9b812cbc",
   "metadata": {},
   "outputs": [
    {
     "name": "stderr",
     "output_type": "stream",
     "text": [
      "100%|██████████| 866/866 [03:10<00:00,  4.55it/s]\n"
     ]
    }
   ],
   "source": [
    "# Load data\n",
    "base_path = '/vol/csedu-nobackup/course/IMC037_aimi/group08/aimi-project/data/model_predictions_best_diceCE_checkpoint/'\n",
    "\n",
    "# Data count\n",
    "VAL_COUNT = 866\n",
    "validation_data = []\n",
    "\n",
    "\n",
    "for i in tqdm(range(VAL_COUNT)):\n",
    "    data = torch.load(base_path + f'input_tensor_idx{i}.pt', weights_only=False).to('cpu')\n",
    "    logits = torch.load(base_path + f'pred_tensor_idx{i}.pt', weights_only=False).to('cpu')\n",
    "    label = torch.load(base_path + f'label_tensor_idx{i}.pt', weights_only=False).to('cpu')\n",
    "\n",
    "    validation_data.append((data, logits, label))\n"
   ]
  },
  {
   "cell_type": "code",
   "execution_count": 4,
   "id": "b89f033b",
   "metadata": {},
   "outputs": [
    {
     "name": "stdout",
     "output_type": "stream",
     "text": [
      "Current threshold: 0.1\n"
     ]
    },
    {
     "name": "stderr",
     "output_type": "stream",
     "text": [
      "                                                 \r"
     ]
    },
    {
     "name": "stdout",
     "output_type": "stream",
     "text": [
      "Current threshold: 0.2\n"
     ]
    },
    {
     "name": "stderr",
     "output_type": "stream",
     "text": [
      "                                                 \r"
     ]
    },
    {
     "name": "stdout",
     "output_type": "stream",
     "text": [
      "Current threshold: 0.30000000000000004\n"
     ]
    },
    {
     "name": "stderr",
     "output_type": "stream",
     "text": [
      "                                                 \r"
     ]
    },
    {
     "name": "stdout",
     "output_type": "stream",
     "text": [
      "Current threshold: 0.4\n"
     ]
    },
    {
     "name": "stderr",
     "output_type": "stream",
     "text": [
      "                                                 \r"
     ]
    },
    {
     "name": "stdout",
     "output_type": "stream",
     "text": [
      "Current threshold: 0.5\n"
     ]
    },
    {
     "name": "stderr",
     "output_type": "stream",
     "text": [
      "                                                 \r"
     ]
    },
    {
     "name": "stdout",
     "output_type": "stream",
     "text": [
      "Current threshold: 0.6\n"
     ]
    },
    {
     "name": "stderr",
     "output_type": "stream",
     "text": [
      "                                                 \r"
     ]
    },
    {
     "name": "stdout",
     "output_type": "stream",
     "text": [
      "Current threshold: 0.7000000000000001\n"
     ]
    },
    {
     "name": "stderr",
     "output_type": "stream",
     "text": [
      "                                                 \r"
     ]
    },
    {
     "name": "stdout",
     "output_type": "stream",
     "text": [
      "Current threshold: 0.8\n"
     ]
    },
    {
     "name": "stderr",
     "output_type": "stream",
     "text": [
      "                                                 \r"
     ]
    },
    {
     "name": "stdout",
     "output_type": "stream",
     "text": [
      "Current threshold: 0.9\n"
     ]
    },
    {
     "name": "stderr",
     "output_type": "stream",
     "text": [
      "                                                 \r"
     ]
    }
   ],
   "source": [
    "scores_per_threshold = []\n",
    "\n",
    "for threshold in np.linspace(0.1, 0.9, 9):\n",
    "    print(f\"Current threshold: {threshold}\")\n",
    "    uls_metric_clean = 0.0\n",
    "\n",
    "    for data, logits, label in tqdm(validation_data, leave=False):\n",
    "        pred = torch.sigmoid(logits[:, 1:, ...])\n",
    "        pred = pred > threshold\n",
    "        \n",
    "        uls_metric_clean += evaluator.ULS_score_metric(pred, label[:, 1:, ...])\n",
    "\n",
    "    uls_metric_clean /= VAL_COUNT\n",
    "    scores_per_threshold.append(uls_metric_clean)\n"
   ]
  },
  {
   "cell_type": "code",
   "execution_count": 6,
   "id": "424d3675",
   "metadata": {},
   "outputs": [
    {
     "data": {
      "image/png": "[encoded data removed]",
      "text/plain": [
       "<Figure size 640x480 with 1 Axes>"
      ]
     },
     "metadata": {},
     "output_type": "display_data"
    }
   ],
   "source": [
    "from matplotlib import pyplot as plt\n",
    "\n",
    "\n",
    "plt.plot(np.linspace(0.1, 0.9, 9), scores_per_threshold)\n",
    "plt.show()"
   ]
  }
 ],
 "metadata": {
  "kernelspec": {
   "display_name": "Python 3 (ipykernel)",
   "language": "python",
   "name": "python3"
  },
  "language_info": {
   "codemirror_mode": {
    "name": "ipython",
    "version": 3
   },
   "file_extension": ".py",
   "mimetype": "text/x-python",
   "name": "python",
   "nbconvert_exporter": "python",
   "pygments_lexer": "ipython3",
   "version": "3.10.12"
  }
 },
 "nbformat": 4,
 "nbformat_minor": 5
}
