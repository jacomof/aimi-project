{
 "cells": [
  {
   "cell_type": "code",
   "execution_count": null,
   "id": "bff74ce3",
   "metadata": {},
   "outputs": [
    {
     "name": "stderr",
     "output_type": "stream",
     "text": [
      "/d/hpc/projects/FRI/jf73497/aimi-project/src/segformer3duls/venv_segformer/lib/python3.10/site-packages/tqdm/auto.py:21: TqdmWarning: IProgress not found. Please update jupyter and ipywidgets. See https://ipywidgets.readthedocs.io/en/stable/user_install.html\n",
      "  from .autonotebook import tqdm as notebook_tqdm\n"
     ]
    }
   ],
   "source": [
    "# --- Standard Library ---\n",
    "import sys\n",
    "import os\n",
    "\n",
    "project_root = '/d/hpc/projects/FRI/jf73497/aimi-project/src/segformer3duls/'\n",
    "if project_root not in sys.path:\n",
    "    sys.path.insert(0, project_root)\n",
    "\n",
    "import random\n",
    "import yaml\n",
    "\n",
    "# --- Third-Party Libraries ---\n",
    "import numpy as np\n",
    "import torch\n",
    "from tqdm import tqdm\n",
    "from matplotlib import pyplot as plt\n",
    "from termcolor import colored\n",
    "from accelerate import Accelerator\n",
    "from scipy.ndimage import (\n",
    "    binary_closing,\n",
    "    binary_opening,\n",
    "    binary_dilation,\n",
    "    binary_erosion,\n",
    "    generate_binary_structure\n",
    ")\n",
    "\n",
    "# --- Local Imports ---\n",
    "#sys.path.append(\"..\")\n",
    "\n",
    "from dataloaders.build_dataset import build_dataset, build_dataloader\n",
    "from architectures.build_architecture import build_architecture\n",
    "from metrics.competition_metric import ULS23_evaluator\n",
    "\n",
    "# CSV paths are relative to the experiment directory, \n",
    "# so we change the working directory to the experiment directory.\n",
    "os.chdir(project_root+\"experiments/uls_2023/dice_oversampled_experiment/\")"
   ]
  },
  {
   "cell_type": "code",
   "execution_count": 3,
   "id": "53fa3a4b",
   "metadata": {},
   "outputs": [
    {
     "name": "stdout",
     "output_type": "stream",
     "text": [
      "True\n"
     ]
    }
   ],
   "source": [
    "print(torch.cuda.is_available())\n",
    "os.chdir(project_root+\"experiments/uls_2023/dice_oversampled_experiment/\")"
   ]
  },
  {
   "cell_type": "code",
   "execution_count": 4,
   "id": "0faeda0e",
   "metadata": {},
   "outputs": [],
   "source": [
    "def test_time_dilation(input_tensor):\n",
    "    # Convert to NumPy and squeeze batch and channel dimensions\n",
    "    volume = input_tensor.squeeze().cpu().numpy()\n",
    "    \n",
    "    # Apply binary dilation\n",
    "    dilated = binary_dilation(volume, structure=np.ones((3, 3, 3)))\n",
    "\n",
    "    return dilated.astype(np.uint8)\n",
    "\n",
    "def test_time_2xdilation(input_tensor):\n",
    "    volume = input_tensor.squeeze().cpu().numpy()\n",
    "    \n",
    "    # Apply binary dilation twice\n",
    "    dilated = binary_dilation(volume, structure=np.ones((3, 3, 3)))\n",
    "    dilated = binary_dilation(dilated, structure=np.ones((3, 3, 3)))\n",
    "\n",
    "    return dilated.astype(np.uint8)\n",
    "\n",
    "def test_time_opening(input_tensor):\n",
    "    volume = input_tensor.squeeze().cpu().numpy()\n",
    "    \n",
    "    # Apply binary opening: erosion followed by dilation\n",
    "    opened = binary_erosion(volume, structure=np.ones((3, 3, 3)))\n",
    "    opened = binary_dilation(opened, structure=np.ones((3, 3, 3)))\n",
    "\n",
    "    return opened.astype(np.uint8)\n",
    "\n",
    "def test_time_closing(input_tensor):\n",
    "    volume = input_tensor.squeeze().cpu().numpy()\n",
    "    \n",
    "    # Apply binary closing: dilation followed by erosion\n",
    "    closed = binary_dilation(volume, structure=np.ones((3, 3, 3)))\n",
    "    closed = binary_erosion(closed, structure=np.ones((3, 3, 3)))\n",
    "\n",
    "    return closed.astype(np.uint8)\n",
    "\n",
    "def test_time_shift(model, input_tensor, threshold=0.5):\n",
    "    predictions = []\n",
    "\n",
    "    device = next(model.parameters()).device\n",
    "    input_tensor = input_tensor.to(device)\n",
    "\n",
    "    shifts = [\n",
    "        (0, 0, 0),\n",
    "        (5, 0, 0), \n",
    "        # (-5, 0, 0),\n",
    "        # (0, 5, 0), \n",
    "        (0, -5, 0),\n",
    "        # (0, 0, 5), \n",
    "        (0, 0, -5),\n",
    "    ]\n",
    "\n",
    "    with torch.no_grad():\n",
    "        for dz, dx, dy in shifts:\n",
    "            augmented = input_tensor.clone()\n",
    "\n",
    "            # Shift\n",
    "            augmented = torch.roll(augmented, shifts=(dz, dx, dy), dims=(2, 3, 4))\n",
    "\n",
    "            # Model inference\n",
    "            logits = model.forward(augmented)\n",
    "            logits = logits[:, 1:, ...]\n",
    "            pred = torch.sigmoid(logits[:, :, ...])\n",
    "            pred = pred > 0.5\n",
    "\n",
    "            # Undo shift\n",
    "            pred = torch.roll(pred, shifts=(-dz, -dx, -dy), dims=(2, 3, 4))\n",
    "            predictions.append(pred.float())\n",
    "\n",
    "    avg_prediction = torch.stack(predictions).mean(dim=0, keepdims=True)\n",
    "\n",
    "    # --- Morphological smoothing ---\n",
    "    # Convert to NumPy for processing\n",
    "    pred_np = avg_prediction.squeeze().cpu().numpy()\n",
    "\n",
    "    # Binarize\n",
    "    binary_pred = pred_np > threshold\n",
    "    return binary_pred"
   ]
  },
  {
   "cell_type": "code",
   "execution_count": 6,
   "id": "a2525727",
   "metadata": {},
   "outputs": [],
   "source": [
    "evaluator = ULS23_evaluator()\n",
    "\n",
    "def load_config(config_path: str):\n",
    "    \"\"\"loads the yaml config file\n",
    "\n",
    "    Args:\n",
    "        config_path (str): _description_\n",
    "\n",
    "    Returns:\n",
    "        Dict: _description_\n",
    "    \"\"\"\n",
    "    with open(config_path, \"r\") as file:\n",
    "        config = yaml.safe_load(file)\n",
    "    return config\n",
    "\n",
    "##################################################################################################\n",
    "def seed_everything(config) -> None:\n",
    "    seed = config[\"training_parameters\"][\"seed\"]\n",
    "    os.environ[\"PYTHONHASHSEED\"] = str(seed)\n",
    "    random.seed(seed)\n",
    "    np.random.seed(seed)\n",
    "    torch.manual_seed(seed)\n",
    "    torch.cuda.manual_seed(seed)\n",
    "    torch.cuda.manual_seed_all(seed)\n",
    "    torch.backends.cudnn.deterministic = True\n",
    "    torch.backends.cudnn.benchmark = False\n",
    "\n",
    "\n",
    "def load_checkpoint(\n",
    "        config,\n",
    "        accelerator,\n",
    "):\n",
    "    accelerator.load_state(\n",
    "        config[\"training_parameters\"][\"load_checkpoint\"][\"load_checkpoint_path\"]\n",
    "    )\n",
    "   \n",
    "\n",
    "def _run_eval(accelerator, model, val_dataloader) -> None:\n",
    "    \"\"\"_summary_\"\"\"\n",
    "    # Tell wandb to watch the model and optimizer values\n",
    "\n",
    "    accelerator.print(\"[info] -- Starting model evaluation\")\n",
    "\n",
    "    # Initialize the training loss for the current Epoch\n",
    "    original_dice_total = 0.0\n",
    "    original_uls_metric_total = 0.0\n",
    "\n",
    "    dilated_uls_metric_total = 0.0\n",
    "\n",
    "    dilatedx2_uls_metric_total = 0.0\n",
    "\n",
    "    opening_uls_metric_total = 0.0\n",
    "\n",
    "    closing_uls_metric_total = 0.0\n",
    "\n",
    "    shift_uls_metric_total = 0.0\n",
    "\n",
    "\n",
    "    # set model to train mode\n",
    "    model.eval()\n",
    "\n",
    "    ULS_per_threshold = [0.0]*9\n",
    "    thresholds = np.linspace(0.1, 0.9, 9)\n",
    "    \n",
    "    with torch.no_grad():\n",
    "        for index, (raw_data) in enumerate(tqdm(val_dataloader)):\n",
    "            # get data ex: (data, target)\n",
    "            data, labels = (\n",
    "                raw_data[\"image\"],\n",
    "                raw_data[\"label\"],\n",
    "            )\n",
    "\n",
    "            logits = model.forward(data)\n",
    "            logits = logits[:, 1:, ...]\n",
    "            predicted = torch.sigmoid(logits)\n",
    "\n",
    "            for i, threshold in enumerate(thresholds):\n",
    "                y_pred = predicted > threshold\n",
    "                y_true = labels[:, 1:, ...]\n",
    "\n",
    "                ULS_per_threshold[i] += evaluator.ULS_score_metric(y_pred, y_true)\n",
    "\n",
    "    ULS_per_threshold = np.array(ULS_per_threshold)/float(index + 1)\n",
    "    best_index = np.argmax(ULS_per_threshold)\n",
    "    best_threshold = thresholds[best_index]\n",
    "\n",
    "\n",
    "    # set epoch to shift data order each epoch\n",
    "    # self.val_dataloader.sampler.set_epoch(self.current_epoch)\n",
    "    with torch.no_grad():\n",
    "        for index, (raw_data) in enumerate(tqdm(val_dataloader)):\n",
    "            # get data ex: (data, target)\n",
    "            data, labels = (\n",
    "                raw_data[\"image\"],\n",
    "                raw_data[\"label\"],\n",
    "            )\n",
    "\n",
    "            logits = model.forward(data)\n",
    "            logits = logits[:, 1:, ...]\n",
    "            predicted = torch.sigmoid(logits)\n",
    "            y_pred = predicted > best_threshold\n",
    "            y_true = labels[:, 1:, ...]\n",
    "\n",
    "            original_uls_metric_total += evaluator.ULS_score_metric(y_pred, y_true)\n",
    "            # print(f\"Orgi ULS: {original_uls_metric}\")\n",
    "\n",
    "            # Test-time dilation\n",
    "            dilated_pred = test_time_dilation(y_pred.float())\n",
    "            dilated_uls_metric_total += evaluator.ULS_score_metric(\n",
    "                torch.tensor(dilated_pred).unsqueeze(0).unsqueeze(0).to(y_true.device),\n",
    "                y_true,\n",
    "            )\n",
    "\n",
    "            # Test-time 2x dilation\n",
    "            dilatedx2_pred = test_time_2xdilation(y_pred.float())\n",
    "            dilatedx2_uls_metric_total += evaluator.ULS_score_metric(\n",
    "                torch.tensor(dilatedx2_pred).unsqueeze(0).unsqueeze(0).to(y_true.device),\n",
    "                y_true,\n",
    "            )\n",
    "\n",
    "            # Test-time opening\n",
    "            opened_pred = test_time_opening(y_pred.float())\n",
    "            opening_uls_metric_total += evaluator.ULS_score_metric(\n",
    "                torch.tensor(opened_pred).unsqueeze(0).unsqueeze(0).to(y_true.device),\n",
    "                y_true,\n",
    "            )\n",
    "\n",
    "            # Test-time closing\n",
    "            closed_pred = test_time_closing(y_pred.float())\n",
    "            closing_uls_metric_total += evaluator.ULS_score_metric(\n",
    "                torch.tensor(closed_pred).unsqueeze(0).unsqueeze(0).to(y_true.device),\n",
    "                y_true,\n",
    "            )\n",
    "\n",
    "            # Test-time shift\n",
    "            shifted_pred = test_time_shift(model, data, threshold=best_threshold)\n",
    "            shift_uls_metric_total += evaluator.ULS_score_metric(\n",
    "                torch.tensor(shifted_pred).unsqueeze(0).unsqueeze(0).to(y_true.device),\n",
    "                y_true,\n",
    "            )\n",
    "\n",
    "\n",
    "            # y_pred = test_time_augmentation(model, data, morph_op='opening')\n",
    "            # my_uls_metric = evaluator.ULS_score_metric(y_pred, y_true)\n",
    "            # print(f\"My ULS: {my_uls_metric}\")\n",
    "            \n",
    "\n",
    "\n",
    "            # # calculate metrics\n",
    "            # if self.calculate_metrics:\n",
    "            #     mean_dice, mean_uls_metric = self._calc_dice_metric(data, labels, use_ema)\n",
    "            #     # keep track of number of total correct\n",
    "            #     total_dice += mean_dice\n",
    "            #     total_uls_metric += mean_uls_metric\n",
    "\n",
    "            #     my_total_uls_metric += my_uls_metric\n",
    "\n",
    "            # update loss for the current batch\n",
    "            # epoch_avg_loss += loss.item()\n",
    "\n",
    "    # Average across batches\n",
    "    divisor = float(index + 1)\n",
    "    original_uls_metric_total /= divisor\n",
    "    dilated_uls_metric_total /= divisor\n",
    "    dilatedx2_uls_metric_total /= divisor\n",
    "    opening_uls_metric_total /= divisor\n",
    "    closing_uls_metric_total /= divisor\n",
    "    shift_uls_metric_total /= divisor\n",
    "\n",
    "\n",
    "    # Print metrics\n",
    "    accelerator.print(\n",
    "        f\"Original ULS: {colored(f'{original_uls_metric_total:.5f}', 'green')} | \"\n",
    "        f\"Dilated: {colored(f'{dilated_uls_metric_total:.5f}', 'cyan')} | \"\n",
    "        f\"2x Dilated: {colored(f'{dilatedx2_uls_metric_total:.5f}', 'cyan')} | \"\n",
    "        f\"Opening: {colored(f'{opening_uls_metric_total:.5f}', 'cyan')} | \"\n",
    "        f\"Closing: {colored(f'{closing_uls_metric_total:.5f}', 'cyan')} | \"\n",
    "        f\"Shifted: {colored(f'{shift_uls_metric_total:.5f}', 'cyan')}\"\n",
    "    )\n",
    "\n",
    "    return ULS_per_threshold\n",
    "\n"
   ]
  },
  {
   "cell_type": "code",
   "execution_count": 8,
   "id": "b6c06e25",
   "metadata": {},
   "outputs": [
    {
     "data": {
      "text/plain": [
       "'/d/hpc/projects/FRI/jf73497/aimi-project/src/segformer3duls/experiments/uls_2023/dice_oversampled_experiment'"
      ]
     },
     "execution_count": 8,
     "metadata": {},
     "output_type": "execute_result"
    }
   ],
   "source": [
    "os.getcwd()"
   ]
  },
  {
   "cell_type": "code",
   "execution_count": 9,
   "id": "9b812cbc",
   "metadata": {},
   "outputs": [
    {
     "name": "stdout",
     "output_type": "stream",
     "text": [
      "Initializing dataset with csv file:  ../../../data/uls2023_oversampled_seg/validation.csv\n",
      "Number of samples:  201\n",
      "Loaded ULS2023 dataset\n",
      "[info] -- Loading checkpoint.\n",
      "[info] -- Running evaluation only.\n",
      "[info] -- Starting model evaluation\n"
     ]
    },
    {
     "name": "stderr",
     "output_type": "stream",
     "text": [
      "100%|██████████| 201/201 [09:57<00:00,  2.97s/it]\n",
      "100%|██████████| 201/201 [08:21<00:00,  2.49s/it]"
     ]
    },
    {
     "name": "stdout",
     "output_type": "stream",
     "text": [
      "Original ULS: \u001b[32m0.51879\u001b[0m | Dilated: \u001b[36m0.43515\u001b[0m | 2x Dilated: \u001b[36m0.34632\u001b[0m | Opening: \u001b[36m0.47587\u001b[0m | Closing: \u001b[36m0.51864\u001b[0m | Shifted: \u001b[36m0.46661\u001b[0m\n"
     ]
    },
    {
     "name": "stderr",
     "output_type": "stream",
     "text": [
      "\n"
     ]
    }
   ],
   "source": [
    "# load config\n",
    "config = load_config(\"/d/hpc/home/jf73497/projects/aimi-project/src/tta_aug/config.yaml\")\n",
    "\n",
    "# set seed\n",
    "seed_everything(config)\n",
    "\n",
    "# build validation dataset & validataion data loader\n",
    "valset = build_dataset(\n",
    "    dataset_type=config[\"dataset_parameters\"][\"dataset_type\"],\n",
    "    dataset_args=config[\"dataset_parameters\"][\"val_dataset_args\"],\n",
    ")\n",
    "valloader = build_dataloader(\n",
    "    dataset=valset,\n",
    "    dataloader_args=config[\"dataset_parameters\"][\"val_dataloader_args\"],\n",
    "    config=config,\n",
    "    train=False,\n",
    ")\n",
    "\n",
    "# build the Model\n",
    "model = build_architecture(config)\n",
    "\n",
    "\n",
    "# use accelarate\n",
    "accelerator = Accelerator(\n",
    "    log_with=\"wandb\",\n",
    "    gradient_accumulation_steps=config[\"training_parameters\"][\n",
    "        \"grad_accumulate_steps\"\n",
    "    ],\n",
    ")\n",
    "# accelerator.init_trackers(\n",
    "#     project_name=config[\"project\"],\n",
    "#     config=config,\n",
    "#     init_kwargs={\"wandb\": config[\"wandb_parameters\"]},\n",
    "# )\n",
    "\n",
    "\n",
    "# convert all components to accelerate\n",
    "model = accelerator.prepare_model(model=model)\n",
    "valloader = accelerator.prepare_data_loader(data_loader=valloader)\n",
    "\n",
    "if config[\"training_parameters\"][\"load_checkpoint\"][\"load_full_checkpoint\"]:\n",
    "        print(\"[info] -- Loading checkpoint.\")\n",
    "        load_checkpoint(\n",
    "            config=config,\n",
    "            accelerator=accelerator,)\n",
    "\n",
    "print(\"[info] -- Running evaluation only.\")\n",
    "ULS_per_threshold = _run_eval(accelerator, model, valloader)"
   ]
  },
  {
   "cell_type": "code",
   "execution_count": 12,
   "id": "bfeebb2f",
   "metadata": {},
   "outputs": [
    {
     "name": "stdout",
     "output_type": "stream",
     "text": [
      "Error in callback <bound method _WandbInit._resume_backend of <wandb.sdk.wandb_init._WandbInit object at 0x000001DB7FF4E0E0>> (for pre_run_cell), with arguments args (<ExecutionInfo object at 1db11480580, raw_cell=\"print(ULS_per_threshold)\" store_history=True silent=False shell_futures=True cell_id=vscode-notebook-cell:/c%3A/Users/Lazar/OneDrive/Desktop/RU%20Courses/AI%20in%20Medical%20Imaging/project/aimi-project/SegFormer3D-main/tta_aug/tta_preprocessed.ipynb#X11sZmlsZQ%3D%3D>,),kwargs {}:\n"
     ]
    },
    {
     "ename": "TypeError",
     "evalue": "_WandbInit._resume_backend() takes 1 positional argument but 2 were given",
     "output_type": "error",
     "traceback": [
      "\u001b[1;31m---------------------------------------------------------------------------\u001b[0m",
      "\u001b[1;31mTypeError\u001b[0m                                 Traceback (most recent call last)",
      "\u001b[1;31mTypeError\u001b[0m: _WandbInit._resume_backend() takes 1 positional argument but 2 were given"
     ]
    },
    {
     "name": "stdout",
     "output_type": "stream",
     "text": [
      "[0.55682154 0.55853287 0.5591937  0.55975669 0.56031297 0.56064882\n",
      " 0.56097877 0.5611234  0.56077012]\n",
      "Error in callback <bound method _WandbInit._pause_backend of <wandb.sdk.wandb_init._WandbInit object at 0x000001DB7FF4E0E0>> (for post_run_cell), with arguments args (<ExecutionResult object at 1db114775b0, execution_count=12 error_before_exec=None error_in_exec=None info=<ExecutionInfo object at 1db11480580, raw_cell=\"print(ULS_per_threshold)\" store_history=True silent=False shell_futures=True cell_id=vscode-notebook-cell:/c%3A/Users/Lazar/OneDrive/Desktop/RU%20Courses/AI%20in%20Medical%20Imaging/project/aimi-project/SegFormer3D-main/tta_aug/tta_preprocessed.ipynb#X11sZmlsZQ%3D%3D> result=None>,),kwargs {}:\n"
     ]
    },
    {
     "ename": "TypeError",
     "evalue": "_WandbInit._pause_backend() takes 1 positional argument but 2 were given",
     "output_type": "error",
     "traceback": [
      "\u001b[1;31m---------------------------------------------------------------------------\u001b[0m",
      "\u001b[1;31mTypeError\u001b[0m                                 Traceback (most recent call last)",
      "\u001b[1;31mTypeError\u001b[0m: _WandbInit._pause_backend() takes 1 positional argument but 2 were given"
     ]
    }
   ],
   "source": [
    "print(ULS_per_threshold)"
   ]
  },
  {
   "cell_type": "code",
   "execution_count": 13,
   "id": "424d3675",
   "metadata": {},
   "outputs": [
    {
     "name": "stdout",
     "output_type": "stream",
     "text": [
      "Error in callback <bound method _WandbInit._resume_backend of <wandb.sdk.wandb_init._WandbInit object at 0x000001DB7FF4E0E0>> (for pre_run_cell), with arguments args (<ExecutionInfo object at 1db114f77f0, raw_cell=\"import numpy as np\n",
      "import seaborn as sns\n",
      "import ma..\" store_history=True silent=False shell_futures=True cell_id=vscode-notebook-cell:/c%3A/Users/Lazar/OneDrive/Desktop/RU%20Courses/AI%20in%20Medical%20Imaging/project/aimi-project/SegFormer3D-main/tta_aug/tta_preprocessed.ipynb#W4sZmlsZQ%3D%3D>,),kwargs {}:\n"
     ]
    },
    {
     "ename": "TypeError",
     "evalue": "_WandbInit._resume_backend() takes 1 positional argument but 2 were given",
     "output_type": "error",
     "traceback": [
      "\u001b[1;31m---------------------------------------------------------------------------\u001b[0m",
      "\u001b[1;31mTypeError\u001b[0m                                 Traceback (most recent call last)",
      "\u001b[1;31mTypeError\u001b[0m: _WandbInit._resume_backend() takes 1 positional argument but 2 were given"
     ]
    },
    {
     "data": {
      "image/png": "[encoded data removed]",
      "text/plain": [
       "<Figure size 800x500 with 1 Axes>"
      ]
     },
     "metadata": {},
     "output_type": "display_data"
    },
    {
     "name": "stdout",
     "output_type": "stream",
     "text": [
      "Error in callback <bound method _WandbInit._pause_backend of <wandb.sdk.wandb_init._WandbInit object at 0x000001DB7FF4E0E0>> (for post_run_cell), with arguments args (<ExecutionResult object at 1db202772e0, execution_count=13 error_before_exec=None error_in_exec=None info=<ExecutionInfo object at 1db114f77f0, raw_cell=\"import numpy as np\n",
      "import seaborn as sns\n",
      "import ma..\" store_history=True silent=False shell_futures=True cell_id=vscode-notebook-cell:/c%3A/Users/Lazar/OneDrive/Desktop/RU%20Courses/AI%20in%20Medical%20Imaging/project/aimi-project/SegFormer3D-main/tta_aug/tta_preprocessed.ipynb#W4sZmlsZQ%3D%3D> result=None>,),kwargs {}:\n"
     ]
    },
    {
     "ename": "TypeError",
     "evalue": "_WandbInit._pause_backend() takes 1 positional argument but 2 were given",
     "output_type": "error",
     "traceback": [
      "\u001b[1;31m---------------------------------------------------------------------------\u001b[0m",
      "\u001b[1;31mTypeError\u001b[0m                                 Traceback (most recent call last)",
      "\u001b[1;31mTypeError\u001b[0m: _WandbInit._pause_backend() takes 1 positional argument but 2 were given"
     ]
    }
   ],
   "source": [
    "import numpy as np\n",
    "import seaborn as sns\n",
    "import matplotlib.pyplot as plt\n",
    "\n",
    "# Example data (replace with your actual data)\n",
    "thresholds = np.linspace(0.1, 0.9, 9)\n",
    "\n",
    "# Set seaborn style\n",
    "sns.set_theme(style=\"whitegrid\", context=\"talk\")\n",
    "\n",
    "# Create the plot\n",
    "plt.figure(figsize=(8, 5))\n",
    "sns.lineplot(x=thresholds, y=ULS_per_threshold, marker=\"o\", linewidth=2.5, color=\"steelblue\")\n",
    "\n",
    "# Labels and title\n",
    "plt.xlabel(\"Threshold\", fontsize=14)\n",
    "plt.ylabel(\"ULS Score\", fontsize=14)\n",
    "plt.title(\"ULS Score vs. Threshold\", fontsize=16)\n",
    "plt.xticks(thresholds, rotation=45)\n",
    "# plt.ylim(0, 1)\n",
    "plt.grid(True)\n",
    "\n",
    "# Show the plot\n",
    "plt.tight_layout()\n",
    "plt.show()"
   ]
  }
 ],
 "metadata": {
  "kernelspec": {
   "display_name": "Python 3 (ipykernel)",
   "language": "python",
   "name": "python3"
  }
 },
 "nbformat": 4,
 "nbformat_minor": 5
}
